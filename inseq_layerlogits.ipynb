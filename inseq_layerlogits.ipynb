{
 "cells": [
  {
   "cell_type": "code",
   "execution_count": 1,
   "metadata": {},
   "outputs": [],
   "source": [
    "import inseq"
   ]
  },
  {
   "cell_type": "code",
   "execution_count": 2,
   "metadata": {},
   "outputs": [],
   "source": [
    "from transformers import AutoModelForCausalLM, AutoTokenizer\n",
    "from inseq.utils.typing import SingleScorePerStepTensor\n",
    "from transformers.modeling_outputs import CausalLMOutput, Seq2SeqLMOutput\n",
    "from inseq.attr import StepFunctionArgs\n",
    "\n",
    "from typing import Union"
   ]
  },
  {
   "cell_type": "code",
   "execution_count": 3,
   "metadata": {},
   "outputs": [
    {
     "name": "stderr",
     "output_type": "stream",
     "text": [
      "The `load_in_4bit` and `load_in_8bit` arguments are deprecated and will be removed in the future versions. Please, pass a `BitsAndBytesConfig` object in `quantization_config` argument instead.\n"
     ]
    },
    {
     "data": {
      "application/vnd.jupyter.widget-view+json": {
       "model_id": "a3d88c3dd7e34f6fb4c809fbb036d166",
       "version_major": 2,
       "version_minor": 0
      },
      "text/plain": [
       "Loading checkpoint shards:   0%|          | 0/2 [00:00<?, ?it/s]"
      ]
     },
     "metadata": {},
     "output_type": "display_data"
    },
    {
     "name": "stderr",
     "output_type": "stream",
     "text": [
      "/home/qvr905/.conda/envs/myinseq/lib/python3.11/site-packages/transformers/generation/configuration_utils.py:492: UserWarning: `do_sample` is set to `False`. However, `temperature` is set to `0.9` -- this flag is only used in sample-based generation modes. You should set `do_sample=True` or unset `temperature`. This was detected when initializing the generation config instance, which means the corresponding file may hold incorrect parameterization and should be fixed.\n",
      "  warnings.warn(\n",
      "/home/qvr905/.conda/envs/myinseq/lib/python3.11/site-packages/transformers/generation/configuration_utils.py:497: UserWarning: `do_sample` is set to `False`. However, `top_p` is set to `0.6` -- this flag is only used in sample-based generation modes. You should set `do_sample=True` or unset `top_p`. This was detected when initializing the generation config instance, which means the corresponding file may hold incorrect parameterization and should be fixed.\n",
      "  warnings.warn(\n",
      "/home/qvr905/.conda/envs/myinseq/lib/python3.11/site-packages/transformers/generation/configuration_utils.py:492: UserWarning: `do_sample` is set to `False`. However, `temperature` is set to `0.9` -- this flag is only used in sample-based generation modes. You should set `do_sample=True` or unset `temperature`.\n",
      "  warnings.warn(\n",
      "/home/qvr905/.conda/envs/myinseq/lib/python3.11/site-packages/transformers/generation/configuration_utils.py:497: UserWarning: `do_sample` is set to `False`. However, `top_p` is set to `0.6` -- this flag is only used in sample-based generation modes. You should set `do_sample=True` or unset `top_p`.\n",
      "  warnings.warn(\n"
     ]
    }
   ],
   "source": [
    "model = AutoModelForCausalLM.from_pretrained(\"NousResearch/Llama-2-7b-chat-hf\", load_in_8bit=True, device_map=\"auto\",cache_dir=\"/work/qvr905/.cache/huggingface\")\n"
   ]
  },
  {
   "cell_type": "code",
   "execution_count": 4,
   "metadata": {},
   "outputs": [],
   "source": [
    "def logit_lens_fn(args: StepFunctionArgs, layer_idx: int) -> SingleScorePerStepTensor:\n",
    "    \"\"\"Compute the logit lens of the predicted token at the specified layer.\"\"\"\n",
    "    if args.is_attributed_fn:\n",
    "        raise ValueError(\"This step function cannot be used as attribution target.\")\n",
    "    forward_output: Union[CausalLMOutput, Seq2SeqLMOutput] = args.attribution_model.get_forward_output(\n",
    "        args.attribution_model.formatter.convert_args_to_batch(args),\n",
    "        output_hidden_states=True,\n",
    "    )\n",
    "    if args.attribution_model.is_encoder_decoder:\n",
    "        layer_last_state = forward_output.decoder_hidden_states[layer_idx][:, -1, :]\n",
    "    else:\n",
    "        layer_last_state = forward_output.hidden_states[layer_idx][:, -1, :]\n",
    "\n",
    "    logits = args.attribution_model.model.lm_head(layer_last_state)[:, args.target_ids]\n",
    "    return logits"
   ]
  },
  {
   "cell_type": "code",
   "execution_count": 5,
   "metadata": {},
   "outputs": [
    {
     "name": "stderr",
     "output_type": "stream",
     "text": [
      "The model is loaded in 8bit mode. The device cannot be changed after loading the model.\n"
     ]
    }
   ],
   "source": [
    "model = inseq.load_model(model, \"saliency\")\n",
    "inseq.register_step_function(fn=logit_lens_fn, identifier=\"logit_lens\", overwrite=True)"
   ]
  },
  {
   "cell_type": "code",
   "execution_count": 6,
   "metadata": {},
   "outputs": [],
   "source": [
    "class TokenWithId:\n",
    "    def __init__(self, token):\n",
    "        self.token = token\n",
    "\n",
    "class FeatureAttributionOutput:\n",
    "    def __init__(self, sequence_attributions, step_attributions, info):\n",
    "        self.sequence_attributions = sequence_attributions\n",
    "        self.step_attributions = step_attributions\n",
    "        self.info = info\n",
    "\n",
    "class FeatureAttributionSequenceOutput:\n",
    "    def __init__(self, source, target, source_attributions, target_attributions, step_scores, sequence_scores, attr_pos_start, attr_pos_end):\n",
    "        self.source = source\n",
    "        self.target = target\n",
    "        self.source_attributions = source_attributions\n",
    "        self.target_attributions = target_attributions\n",
    "        self.step_scores = step_scores\n",
    "        self.sequence_scores = sequence_scores\n",
    "        self.attr_pos_start = attr_pos_start\n",
    "        self.attr_pos_end = attr_pos_end"
   ]
  },
  {
   "cell_type": "code",
   "execution_count": 84,
   "metadata": {},
   "outputs": [
    {
     "name": "stderr",
     "output_type": "stream",
     "text": [
      "Asking to truncate to max_length but no maximum length is provided and the model has no predefined maximum length. Default to no truncation.\n",
      "Attributing with dummy...: 100%|██████████| 20/20 [00:02<00:00,  2.84it/s]"
     ]
    },
    {
     "name": "stdout",
     "output_type": "stream",
     "text": [
      "<s> Super Mario Land is a game that developed by N intendo for the Game Boy hand h eld console\n"
     ]
    },
    {
     "name": "stderr",
     "output_type": "stream",
     "text": [
      "\n"
     ]
    }
   ],
   "source": [
    "out = model.attribute(\"Super Mario Land is a game that developed by Nintendo\", step_scores=[\"logit_lens\"], layer_idx=25,method=\"dummy\")\n",
    "# Extracting target list\n",
    "target_list = out.sequence_attributions[0].target\n",
    "# Concatenating tokens from TokenWithId objects\n",
    "target_string = ' '.join(token.token[1:] if token.token.startswith('▁') else token.token for token in target_list)\n",
    "print(target_string)\n",
    "#out.show()"
   ]
  },
  {
   "cell_type": "code",
   "execution_count": 9,
   "metadata": {},
   "outputs": [
    {
     "name": "stderr",
     "output_type": "stream",
     "text": [
      "Attributing with dummy...: 100%|██████████| 20/20 [00:02<00:00,  2.74it/s]\n"
     ]
    },
    {
     "data": {
      "text/html": [
       "<br/><b>0th instance:</b><br/>\n",
       "<html>\n",
       "<div id=\"gladdrlvrufsmeqhpbmg_viz_container\">\n",
       "    <div id=\"gladdrlvrufsmeqhpbmg_content\" style=\"padding:15px;border-style:solid;margin:5px;\">\n",
       "        <div id = \"gladdrlvrufsmeqhpbmg_saliency_plot_container\" class=\"gladdrlvrufsmeqhpbmg_viz_container\" style=\"display:block\">\n",
       "            \n",
       "<div id=\"smbmionvecbzyqtandvm_saliency_plot\" class=\"smbmionvecbzyqtandvm_viz_content\">\n",
       "    <div style=\"margin:5px;font-family:sans-serif;font-weight:bold;\">\n",
       "        <span style=\"font-size: 20px;\">Target Saliency Heatmap</span>\n",
       "        <br>\n",
       "        x: Generated tokens, y: Attributed tokens\n",
       "    </div>\n",
       "    \n",
       "<table border=\"1\" cellpadding=\"5\" cellspacing=\"5\"\n",
       "    style=\"overflow-x:scroll;display:block;\">\n",
       "    <tr><th></th>\n",
       "<th>▁for</th><th>▁the</th><th>▁Game</th><th>▁Boy</th><th>▁in</th><th>▁</th><th>1</th><th>9</th></tr><tr style=\"outline: thin solid\"><th><b>logit_lens</b></th><th><b>17.641</b></th><th><b>22.156</b></th><th><b>20.594</b></th><th><b>23.453</b></th><th><b>19.109</b></th><th><b>23.297</b></th><th><b>24.172</b></th><th><b>27.016</b></th></table>\n",
       "</div>\n",
       "\n",
       "        </div>\n",
       "    </div>\n",
       "</div>\n",
       "</html>\n"
      ],
      "text/plain": [
       "<IPython.core.display.HTML object>"
      ]
     },
     "metadata": {},
     "output_type": "display_data"
    },
    {
     "name": "stderr",
     "output_type": "stream",
     "text": [
      "Attributing with dummy...: 100%|██████████| 20/20 [00:02<00:00,  2.73it/s]\n"
     ]
    },
    {
     "data": {
      "text/html": [
       "<br/><b>0th instance:</b><br/>\n",
       "<html>\n",
       "<div id=\"wpfxlocwvrmtwlekznkn_viz_container\">\n",
       "    <div id=\"wpfxlocwvrmtwlekznkn_content\" style=\"padding:15px;border-style:solid;margin:5px;\">\n",
       "        <div id = \"wpfxlocwvrmtwlekznkn_saliency_plot_container\" class=\"wpfxlocwvrmtwlekznkn_viz_container\" style=\"display:block\">\n",
       "            \n",
       "<div id=\"ybyzxujwbbuyariugvwv_saliency_plot\" class=\"ybyzxujwbbuyariugvwv_viz_content\">\n",
       "    <div style=\"margin:5px;font-family:sans-serif;font-weight:bold;\">\n",
       "        <span style=\"font-size: 20px;\">Target Saliency Heatmap</span>\n",
       "        <br>\n",
       "        x: Generated tokens, y: Attributed tokens\n",
       "    </div>\n",
       "    \n",
       "<table border=\"1\" cellpadding=\"5\" cellspacing=\"5\"\n",
       "    style=\"overflow-x:scroll;display:block;\">\n",
       "    <tr><th></th>\n",
       "<th>▁for</th><th>▁the</th><th>▁Game</th><th>▁Boy</th><th>▁in</th><th>▁</th><th>1</th><th>9</th></tr><tr style=\"outline: thin solid\"><th><b>logit_lens</b></th><th><b>12.867</b></th><th><b>15.594</b></th><th><b>12.805</b></th><th><b>11.609</b></th><th><b>16.203</b></th><th><b>23.328</b></th><th><b>18.922</b></th><th><b>1.947</b></th></table>\n",
       "</div>\n",
       "\n",
       "        </div>\n",
       "    </div>\n",
       "</div>\n",
       "</html>\n"
      ],
      "text/plain": [
       "<IPython.core.display.HTML object>"
      ]
     },
     "metadata": {},
     "output_type": "display_data"
    },
    {
     "name": "stderr",
     "output_type": "stream",
     "text": [
      "Attributing with dummy...: 100%|██████████| 20/20 [00:02<00:00,  2.73it/s]\n"
     ]
    },
    {
     "data": {
      "text/html": [
       "<br/><b>0th instance:</b><br/>\n",
       "<html>\n",
       "<div id=\"odaduolvlkpvvkfmhoyk_viz_container\">\n",
       "    <div id=\"odaduolvlkpvvkfmhoyk_content\" style=\"padding:15px;border-style:solid;margin:5px;\">\n",
       "        <div id = \"odaduolvlkpvvkfmhoyk_saliency_plot_container\" class=\"odaduolvlkpvvkfmhoyk_viz_container\" style=\"display:block\">\n",
       "            \n",
       "<div id=\"tfnprfclvnkcxpuzmmwl_saliency_plot\" class=\"tfnprfclvnkcxpuzmmwl_viz_content\">\n",
       "    <div style=\"margin:5px;font-family:sans-serif;font-weight:bold;\">\n",
       "        <span style=\"font-size: 20px;\">Target Saliency Heatmap</span>\n",
       "        <br>\n",
       "        x: Generated tokens, y: Attributed tokens\n",
       "    </div>\n",
       "    \n",
       "<table border=\"1\" cellpadding=\"5\" cellspacing=\"5\"\n",
       "    style=\"overflow-x:scroll;display:block;\">\n",
       "    <tr><th></th>\n",
       "<th>▁for</th><th>▁the</th><th>▁Game</th><th>▁Boy</th><th>▁in</th><th>▁</th><th>1</th><th>9</th></tr><tr style=\"outline: thin solid\"><th><b>logit_lens</b></th><th><b>10.75</b></th><th><b>10.32</b></th><th><b>10.016</b></th><th><b>11.148</b></th><th><b>11.828</b></th><th><b>15.922</b></th><th><b>11.375</b></th><th><b>1.378</b></th></table>\n",
       "</div>\n",
       "\n",
       "        </div>\n",
       "    </div>\n",
       "</div>\n",
       "</html>\n"
      ],
      "text/plain": [
       "<IPython.core.display.HTML object>"
      ]
     },
     "metadata": {},
     "output_type": "display_data"
    },
    {
     "name": "stderr",
     "output_type": "stream",
     "text": [
      "Attributing with dummy...: 100%|██████████| 20/20 [00:02<00:00,  2.74it/s]\n"
     ]
    },
    {
     "data": {
      "text/html": [
       "<br/><b>0th instance:</b><br/>\n",
       "<html>\n",
       "<div id=\"zjbfcbtgbayrroueujgl_viz_container\">\n",
       "    <div id=\"zjbfcbtgbayrroueujgl_content\" style=\"padding:15px;border-style:solid;margin:5px;\">\n",
       "        <div id = \"zjbfcbtgbayrroueujgl_saliency_plot_container\" class=\"zjbfcbtgbayrroueujgl_viz_container\" style=\"display:block\">\n",
       "            \n",
       "<div id=\"waxuknzialngstnfjxwx_saliency_plot\" class=\"waxuknzialngstnfjxwx_viz_content\">\n",
       "    <div style=\"margin:5px;font-family:sans-serif;font-weight:bold;\">\n",
       "        <span style=\"font-size: 20px;\">Target Saliency Heatmap</span>\n",
       "        <br>\n",
       "        x: Generated tokens, y: Attributed tokens\n",
       "    </div>\n",
       "    \n",
       "<table border=\"1\" cellpadding=\"5\" cellspacing=\"5\"\n",
       "    style=\"overflow-x:scroll;display:block;\">\n",
       "    <tr><th></th>\n",
       "<th>▁for</th><th>▁the</th><th>▁Game</th><th>▁Boy</th><th>▁in</th><th>▁</th><th>1</th><th>9</th></tr><tr style=\"outline: thin solid\"><th><b>logit_lens</b></th><th><b>9.25</b></th><th><b>9.25</b></th><th><b>9.391</b></th><th><b>9.797</b></th><th><b>10.008</b></th><th><b>13.938</b></th><th><b>10.555</b></th><th><b>0.816</b></th></table>\n",
       "</div>\n",
       "\n",
       "        </div>\n",
       "    </div>\n",
       "</div>\n",
       "</html>\n"
      ],
      "text/plain": [
       "<IPython.core.display.HTML object>"
      ]
     },
     "metadata": {},
     "output_type": "display_data"
    },
    {
     "name": "stderr",
     "output_type": "stream",
     "text": [
      "Attributing with dummy...: 100%|██████████| 20/20 [00:02<00:00,  2.74it/s]\n"
     ]
    },
    {
     "data": {
      "text/html": [
       "<br/><b>0th instance:</b><br/>\n",
       "<html>\n",
       "<div id=\"msmslmgjnulikoicxild_viz_container\">\n",
       "    <div id=\"msmslmgjnulikoicxild_content\" style=\"padding:15px;border-style:solid;margin:5px;\">\n",
       "        <div id = \"msmslmgjnulikoicxild_saliency_plot_container\" class=\"msmslmgjnulikoicxild_viz_container\" style=\"display:block\">\n",
       "            \n",
       "<div id=\"sdmgzqqmxmjiqwlhvmbg_saliency_plot\" class=\"sdmgzqqmxmjiqwlhvmbg_viz_content\">\n",
       "    <div style=\"margin:5px;font-family:sans-serif;font-weight:bold;\">\n",
       "        <span style=\"font-size: 20px;\">Target Saliency Heatmap</span>\n",
       "        <br>\n",
       "        x: Generated tokens, y: Attributed tokens\n",
       "    </div>\n",
       "    \n",
       "<table border=\"1\" cellpadding=\"5\" cellspacing=\"5\"\n",
       "    style=\"overflow-x:scroll;display:block;\">\n",
       "    <tr><th></th>\n",
       "<th>▁for</th><th>▁the</th><th>▁Game</th><th>▁Boy</th><th>▁in</th><th>▁</th><th>1</th><th>9</th></tr><tr style=\"outline: thin solid\"><th><b>logit_lens</b></th><th><b>6.988</b></th><th><b>6.824</b></th><th><b>8.305</b></th><th><b>9.578</b></th><th><b>8.398</b></th><th><b>10.773</b></th><th><b>6.297</b></th><th>0.013</th></table>\n",
       "</div>\n",
       "\n",
       "        </div>\n",
       "    </div>\n",
       "</div>\n",
       "</html>\n"
      ],
      "text/plain": [
       "<IPython.core.display.HTML object>"
      ]
     },
     "metadata": {},
     "output_type": "display_data"
    },
    {
     "name": "stderr",
     "output_type": "stream",
     "text": [
      "Attributing with dummy...: 100%|██████████| 20/20 [00:02<00:00,  2.74it/s]\n"
     ]
    },
    {
     "data": {
      "text/html": [
       "<br/><b>0th instance:</b><br/>\n",
       "<html>\n",
       "<div id=\"uoyzyvxzzbbpfmvmtwmb_viz_container\">\n",
       "    <div id=\"uoyzyvxzzbbpfmvmtwmb_content\" style=\"padding:15px;border-style:solid;margin:5px;\">\n",
       "        <div id = \"uoyzyvxzzbbpfmvmtwmb_saliency_plot_container\" class=\"uoyzyvxzzbbpfmvmtwmb_viz_container\" style=\"display:block\">\n",
       "            \n",
       "<div id=\"ohjgolocbffycnljkyoe_saliency_plot\" class=\"ohjgolocbffycnljkyoe_viz_content\">\n",
       "    <div style=\"margin:5px;font-family:sans-serif;font-weight:bold;\">\n",
       "        <span style=\"font-size: 20px;\">Target Saliency Heatmap</span>\n",
       "        <br>\n",
       "        x: Generated tokens, y: Attributed tokens\n",
       "    </div>\n",
       "    \n",
       "<table border=\"1\" cellpadding=\"5\" cellspacing=\"5\"\n",
       "    style=\"overflow-x:scroll;display:block;\">\n",
       "    <tr><th></th>\n",
       "<th>▁for</th><th>▁the</th><th>▁Game</th><th>▁Boy</th><th>▁in</th><th>▁</th><th>1</th><th>9</th></tr><tr style=\"outline: thin solid\"><th><b>logit_lens</b></th><th><b>4.461</b></th><th><b>5.285</b></th><th><b>7.344</b></th><th><b>9.742</b></th><th><b>6.68</b></th><th><b>9.68</b></th><th><b>4.266</b></th><th>-0.147</th></table>\n",
       "</div>\n",
       "\n",
       "        </div>\n",
       "    </div>\n",
       "</div>\n",
       "</html>\n"
      ],
      "text/plain": [
       "<IPython.core.display.HTML object>"
      ]
     },
     "metadata": {},
     "output_type": "display_data"
    },
    {
     "name": "stderr",
     "output_type": "stream",
     "text": [
      "Attributing with dummy...: 100%|██████████| 20/20 [00:02<00:00,  2.72it/s]\n"
     ]
    },
    {
     "data": {
      "text/html": [
       "<br/><b>0th instance:</b><br/>\n",
       "<html>\n",
       "<div id=\"bwxitswhabtgpumqjhse_viz_container\">\n",
       "    <div id=\"bwxitswhabtgpumqjhse_content\" style=\"padding:15px;border-style:solid;margin:5px;\">\n",
       "        <div id = \"bwxitswhabtgpumqjhse_saliency_plot_container\" class=\"bwxitswhabtgpumqjhse_viz_container\" style=\"display:block\">\n",
       "            \n",
       "<div id=\"wnviomgayannxorpvlfn_saliency_plot\" class=\"wnviomgayannxorpvlfn_viz_content\">\n",
       "    <div style=\"margin:5px;font-family:sans-serif;font-weight:bold;\">\n",
       "        <span style=\"font-size: 20px;\">Target Saliency Heatmap</span>\n",
       "        <br>\n",
       "        x: Generated tokens, y: Attributed tokens\n",
       "    </div>\n",
       "    \n",
       "<table border=\"1\" cellpadding=\"5\" cellspacing=\"5\"\n",
       "    style=\"overflow-x:scroll;display:block;\">\n",
       "    <tr><th></th>\n",
       "<th>▁for</th><th>▁the</th><th>▁Game</th><th>▁Boy</th><th>▁in</th><th>▁</th><th>1</th><th>9</th></tr><tr style=\"outline: thin solid\"><th><b>logit_lens</b></th><th><b>3.994</b></th><th><b>3.855</b></th><th><b>6.34</b></th><th><b>7.148</b></th><th><b>4.402</b></th><th><b>7.582</b></th><th><b>3.582</b></th><th>-0.288</th></table>\n",
       "</div>\n",
       "\n",
       "        </div>\n",
       "    </div>\n",
       "</div>\n",
       "</html>\n"
      ],
      "text/plain": [
       "<IPython.core.display.HTML object>"
      ]
     },
     "metadata": {},
     "output_type": "display_data"
    },
    {
     "name": "stderr",
     "output_type": "stream",
     "text": [
      "Attributing with dummy...: 100%|██████████| 20/20 [00:02<00:00,  2.73it/s]\n"
     ]
    },
    {
     "data": {
      "text/html": [
       "<br/><b>0th instance:</b><br/>\n",
       "<html>\n",
       "<div id=\"fnzedjzjwqnccsexsyex_viz_container\">\n",
       "    <div id=\"fnzedjzjwqnccsexsyex_content\" style=\"padding:15px;border-style:solid;margin:5px;\">\n",
       "        <div id = \"fnzedjzjwqnccsexsyex_saliency_plot_container\" class=\"fnzedjzjwqnccsexsyex_viz_container\" style=\"display:block\">\n",
       "            \n",
       "<div id=\"mhsqtkagukkglcfainzj_saliency_plot\" class=\"mhsqtkagukkglcfainzj_viz_content\">\n",
       "    <div style=\"margin:5px;font-family:sans-serif;font-weight:bold;\">\n",
       "        <span style=\"font-size: 20px;\">Target Saliency Heatmap</span>\n",
       "        <br>\n",
       "        x: Generated tokens, y: Attributed tokens\n",
       "    </div>\n",
       "    \n",
       "<table border=\"1\" cellpadding=\"5\" cellspacing=\"5\"\n",
       "    style=\"overflow-x:scroll;display:block;\">\n",
       "    <tr><th></th>\n",
       "<th>▁for</th><th>▁the</th><th>▁Game</th><th>▁Boy</th><th>▁in</th><th>▁</th><th>1</th><th>9</th></tr><tr style=\"outline: thin solid\"><th><b>logit_lens</b></th><th><b>3.482</b></th><th><b>2.736</b></th><th><b>5.414</b></th><th><b>6.809</b></th><th><b>3.424</b></th><th><b>7.398</b></th><th><b>3.566</b></th><th>-0.336</th></table>\n",
       "</div>\n",
       "\n",
       "        </div>\n",
       "    </div>\n",
       "</div>\n",
       "</html>\n"
      ],
      "text/plain": [
       "<IPython.core.display.HTML object>"
      ]
     },
     "metadata": {},
     "output_type": "display_data"
    },
    {
     "name": "stderr",
     "output_type": "stream",
     "text": [
      "Attributing with dummy...: 100%|██████████| 20/20 [00:02<00:00,  2.73it/s]\n"
     ]
    },
    {
     "data": {
      "text/html": [
       "<br/><b>0th instance:</b><br/>\n",
       "<html>\n",
       "<div id=\"bwvmwznnssqlaouwpezy_viz_container\">\n",
       "    <div id=\"bwvmwznnssqlaouwpezy_content\" style=\"padding:15px;border-style:solid;margin:5px;\">\n",
       "        <div id = \"bwvmwznnssqlaouwpezy_saliency_plot_container\" class=\"bwvmwznnssqlaouwpezy_viz_container\" style=\"display:block\">\n",
       "            \n",
       "<div id=\"lvpsromdlpumkkooaopy_saliency_plot\" class=\"lvpsromdlpumkkooaopy_viz_content\">\n",
       "    <div style=\"margin:5px;font-family:sans-serif;font-weight:bold;\">\n",
       "        <span style=\"font-size: 20px;\">Target Saliency Heatmap</span>\n",
       "        <br>\n",
       "        x: Generated tokens, y: Attributed tokens\n",
       "    </div>\n",
       "    \n",
       "<table border=\"1\" cellpadding=\"5\" cellspacing=\"5\"\n",
       "    style=\"overflow-x:scroll;display:block;\">\n",
       "    <tr><th></th>\n",
       "<th>▁for</th><th>▁the</th><th>▁Game</th><th>▁Boy</th><th>▁in</th><th>▁</th><th>1</th><th>9</th></tr><tr style=\"outline: thin solid\"><th><b>logit_lens</b></th><th><b>2.869</b></th><th><b>2.736</b></th><th><b>4.938</b></th><th><b>5.734</b></th><th><b>2.492</b></th><th><b>5.941</b></th><th><b>2.326</b></th><th>-0.347</th></table>\n",
       "</div>\n",
       "\n",
       "        </div>\n",
       "    </div>\n",
       "</div>\n",
       "</html>\n"
      ],
      "text/plain": [
       "<IPython.core.display.HTML object>"
      ]
     },
     "metadata": {},
     "output_type": "display_data"
    },
    {
     "name": "stderr",
     "output_type": "stream",
     "text": [
      "Attributing with dummy...: 100%|██████████| 20/20 [00:02<00:00,  2.72it/s]\n"
     ]
    },
    {
     "data": {
      "text/html": [
       "<br/><b>0th instance:</b><br/>\n",
       "<html>\n",
       "<div id=\"znfikjibzvytizqwiwbg_viz_container\">\n",
       "    <div id=\"znfikjibzvytizqwiwbg_content\" style=\"padding:15px;border-style:solid;margin:5px;\">\n",
       "        <div id = \"znfikjibzvytizqwiwbg_saliency_plot_container\" class=\"znfikjibzvytizqwiwbg_viz_container\" style=\"display:block\">\n",
       "            \n",
       "<div id=\"mgjrotanxxtptjvqrznf_saliency_plot\" class=\"mgjrotanxxtptjvqrznf_viz_content\">\n",
       "    <div style=\"margin:5px;font-family:sans-serif;font-weight:bold;\">\n",
       "        <span style=\"font-size: 20px;\">Target Saliency Heatmap</span>\n",
       "        <br>\n",
       "        x: Generated tokens, y: Attributed tokens\n",
       "    </div>\n",
       "    \n",
       "<table border=\"1\" cellpadding=\"5\" cellspacing=\"5\"\n",
       "    style=\"overflow-x:scroll;display:block;\">\n",
       "    <tr><th></th>\n",
       "<th>▁for</th><th>▁the</th><th>▁Game</th><th>▁Boy</th><th>▁in</th><th>▁</th><th>1</th><th>9</th></tr><tr style=\"outline: thin solid\"><th><b>logit_lens</b></th><th><b>2.545</b></th><th><b>2.164</b></th><th><b>4.191</b></th><th><b>4.934</b></th><th><b>2.084</b></th><th><b>4.387</b></th><th><b>1.458</b></th><th>-0.483</th></table>\n",
       "</div>\n",
       "\n",
       "        </div>\n",
       "    </div>\n",
       "</div>\n",
       "</html>\n"
      ],
      "text/plain": [
       "<IPython.core.display.HTML object>"
      ]
     },
     "metadata": {},
     "output_type": "display_data"
    },
    {
     "name": "stderr",
     "output_type": "stream",
     "text": [
      "Attributing with dummy...: 100%|██████████| 20/20 [00:02<00:00,  2.73it/s]\n"
     ]
    },
    {
     "data": {
      "text/html": [
       "<br/><b>0th instance:</b><br/>\n",
       "<html>\n",
       "<div id=\"osvxahlncqjekixjqipo_viz_container\">\n",
       "    <div id=\"osvxahlncqjekixjqipo_content\" style=\"padding:15px;border-style:solid;margin:5px;\">\n",
       "        <div id = \"osvxahlncqjekixjqipo_saliency_plot_container\" class=\"osvxahlncqjekixjqipo_viz_container\" style=\"display:block\">\n",
       "            \n",
       "<div id=\"mrrnjfqtsoxpovqjzkpy_saliency_plot\" class=\"mrrnjfqtsoxpovqjzkpy_viz_content\">\n",
       "    <div style=\"margin:5px;font-family:sans-serif;font-weight:bold;\">\n",
       "        <span style=\"font-size: 20px;\">Target Saliency Heatmap</span>\n",
       "        <br>\n",
       "        x: Generated tokens, y: Attributed tokens\n",
       "    </div>\n",
       "    \n",
       "<table border=\"1\" cellpadding=\"5\" cellspacing=\"5\"\n",
       "    style=\"overflow-x:scroll;display:block;\">\n",
       "    <tr><th></th>\n",
       "<th>▁for</th><th>▁the</th><th>▁Game</th><th>▁Boy</th><th>▁in</th><th>▁</th><th>1</th><th>9</th></tr><tr style=\"outline: thin solid\"><th><b>logit_lens</b></th><th><b>1.828</b></th><th><b>2.227</b></th><th><b>3.09</b></th><th><b>4.02</b></th><th><b>1.869</b></th><th><b>3.574</b></th><th><b>0.813</b></th><th>-0.438</th></table>\n",
       "</div>\n",
       "\n",
       "        </div>\n",
       "    </div>\n",
       "</div>\n",
       "</html>\n"
      ],
      "text/plain": [
       "<IPython.core.display.HTML object>"
      ]
     },
     "metadata": {},
     "output_type": "display_data"
    },
    {
     "name": "stderr",
     "output_type": "stream",
     "text": [
      "Attributing with dummy...: 100%|██████████| 20/20 [00:02<00:00,  2.76it/s]\n"
     ]
    },
    {
     "data": {
      "text/html": [
       "<br/><b>0th instance:</b><br/>\n",
       "<html>\n",
       "<div id=\"jgoymdtbxgndyihcbbsm_viz_container\">\n",
       "    <div id=\"jgoymdtbxgndyihcbbsm_content\" style=\"padding:15px;border-style:solid;margin:5px;\">\n",
       "        <div id = \"jgoymdtbxgndyihcbbsm_saliency_plot_container\" class=\"jgoymdtbxgndyihcbbsm_viz_container\" style=\"display:block\">\n",
       "            \n",
       "<div id=\"oulmyxwydeorfnfhvikh_saliency_plot\" class=\"oulmyxwydeorfnfhvikh_viz_content\">\n",
       "    <div style=\"margin:5px;font-family:sans-serif;font-weight:bold;\">\n",
       "        <span style=\"font-size: 20px;\">Target Saliency Heatmap</span>\n",
       "        <br>\n",
       "        x: Generated tokens, y: Attributed tokens\n",
       "    </div>\n",
       "    \n",
       "<table border=\"1\" cellpadding=\"5\" cellspacing=\"5\"\n",
       "    style=\"overflow-x:scroll;display:block;\">\n",
       "    <tr><th></th>\n",
       "<th>▁for</th><th>▁the</th><th>▁Game</th><th>▁Boy</th><th>▁in</th><th>▁</th><th>1</th><th>9</th></tr><tr style=\"outline: thin solid\"><th><b>logit_lens</b></th><th><b>1.298</b></th><th><b>1.804</b></th><th><b>2.693</b></th><th><b>3.242</b></th><th><b>1.872</b></th><th><b>3.59</b></th><th><b>0.889</b></th><th>-0.418</th></table>\n",
       "</div>\n",
       "\n",
       "        </div>\n",
       "    </div>\n",
       "</div>\n",
       "</html>\n"
      ],
      "text/plain": [
       "<IPython.core.display.HTML object>"
      ]
     },
     "metadata": {},
     "output_type": "display_data"
    },
    {
     "name": "stderr",
     "output_type": "stream",
     "text": [
      "Attributing with dummy...: 100%|██████████| 20/20 [00:02<00:00,  2.70it/s]\n"
     ]
    },
    {
     "data": {
      "text/html": [
       "<br/><b>0th instance:</b><br/>\n",
       "<html>\n",
       "<div id=\"zbkjfbvlboczqroekkku_viz_container\">\n",
       "    <div id=\"zbkjfbvlboczqroekkku_content\" style=\"padding:15px;border-style:solid;margin:5px;\">\n",
       "        <div id = \"zbkjfbvlboczqroekkku_saliency_plot_container\" class=\"zbkjfbvlboczqroekkku_viz_container\" style=\"display:block\">\n",
       "            \n",
       "<div id=\"denpkjkcpqtzmoivymrq_saliency_plot\" class=\"denpkjkcpqtzmoivymrq_viz_content\">\n",
       "    <div style=\"margin:5px;font-family:sans-serif;font-weight:bold;\">\n",
       "        <span style=\"font-size: 20px;\">Target Saliency Heatmap</span>\n",
       "        <br>\n",
       "        x: Generated tokens, y: Attributed tokens\n",
       "    </div>\n",
       "    \n",
       "<table border=\"1\" cellpadding=\"5\" cellspacing=\"5\"\n",
       "    style=\"overflow-x:scroll;display:block;\">\n",
       "    <tr><th></th>\n",
       "<th>▁for</th><th>▁the</th><th>▁Game</th><th>▁Boy</th><th>▁in</th><th>▁</th><th>1</th><th>9</th></tr><tr style=\"outline: thin solid\"><th><b>logit_lens</b></th><th><b>1.721</b></th><th><b>1.888</b></th><th><b>1.849</b></th><th><b>2.102</b></th><th><b>2.123</b></th><th><b>3.111</b></th><th><b>0.81</b></th><th>-0.398</th></table>\n",
       "</div>\n",
       "\n",
       "        </div>\n",
       "    </div>\n",
       "</div>\n",
       "</html>\n"
      ],
      "text/plain": [
       "<IPython.core.display.HTML object>"
      ]
     },
     "metadata": {},
     "output_type": "display_data"
    },
    {
     "name": "stderr",
     "output_type": "stream",
     "text": [
      "Attributing with dummy...: 100%|██████████| 20/20 [00:02<00:00,  2.74it/s]\n"
     ]
    },
    {
     "data": {
      "text/html": [
       "<br/><b>0th instance:</b><br/>\n",
       "<html>\n",
       "<div id=\"mclmmkwztpzxmwvsmmfq_viz_container\">\n",
       "    <div id=\"mclmmkwztpzxmwvsmmfq_content\" style=\"padding:15px;border-style:solid;margin:5px;\">\n",
       "        <div id = \"mclmmkwztpzxmwvsmmfq_saliency_plot_container\" class=\"mclmmkwztpzxmwvsmmfq_viz_container\" style=\"display:block\">\n",
       "            \n",
       "<div id=\"kappsidqizqsahplzmnz_saliency_plot\" class=\"kappsidqizqsahplzmnz_viz_content\">\n",
       "    <div style=\"margin:5px;font-family:sans-serif;font-weight:bold;\">\n",
       "        <span style=\"font-size: 20px;\">Target Saliency Heatmap</span>\n",
       "        <br>\n",
       "        x: Generated tokens, y: Attributed tokens\n",
       "    </div>\n",
       "    \n",
       "<table border=\"1\" cellpadding=\"5\" cellspacing=\"5\"\n",
       "    style=\"overflow-x:scroll;display:block;\">\n",
       "    <tr><th></th>\n",
       "<th>▁for</th><th>▁the</th><th>▁Game</th><th>▁Boy</th><th>▁in</th><th>▁</th><th>1</th><th>9</th></tr><tr style=\"outline: thin solid\"><th><b>logit_lens</b></th><th><b>1.511</b></th><th><b>1.452</b></th><th><b>1.523</b></th><th><b>1.584</b></th><th><b>1.89</b></th><th><b>2.225</b></th><th><b>0.734</b></th><th>-0.424</th></table>\n",
       "</div>\n",
       "\n",
       "        </div>\n",
       "    </div>\n",
       "</div>\n",
       "</html>\n"
      ],
      "text/plain": [
       "<IPython.core.display.HTML object>"
      ]
     },
     "metadata": {},
     "output_type": "display_data"
    },
    {
     "name": "stderr",
     "output_type": "stream",
     "text": [
      "Attributing with dummy...: 100%|██████████| 20/20 [00:02<00:00,  2.73it/s]\n"
     ]
    },
    {
     "data": {
      "text/html": [
       "<br/><b>0th instance:</b><br/>\n",
       "<html>\n",
       "<div id=\"mobiurahcrevlvptlwyu_viz_container\">\n",
       "    <div id=\"mobiurahcrevlvptlwyu_content\" style=\"padding:15px;border-style:solid;margin:5px;\">\n",
       "        <div id = \"mobiurahcrevlvptlwyu_saliency_plot_container\" class=\"mobiurahcrevlvptlwyu_viz_container\" style=\"display:block\">\n",
       "            \n",
       "<div id=\"xhesckhlhnntukfoqwww_saliency_plot\" class=\"xhesckhlhnntukfoqwww_viz_content\">\n",
       "    <div style=\"margin:5px;font-family:sans-serif;font-weight:bold;\">\n",
       "        <span style=\"font-size: 20px;\">Target Saliency Heatmap</span>\n",
       "        <br>\n",
       "        x: Generated tokens, y: Attributed tokens\n",
       "    </div>\n",
       "    \n",
       "<table border=\"1\" cellpadding=\"5\" cellspacing=\"5\"\n",
       "    style=\"overflow-x:scroll;display:block;\">\n",
       "    <tr><th></th>\n",
       "<th>▁for</th><th>▁the</th><th>▁Game</th><th>▁Boy</th><th>▁in</th><th>▁</th><th>1</th><th>9</th></tr><tr style=\"outline: thin solid\"><th><b>logit_lens</b></th><th><b>0.538</b></th><th><b>1.208</b></th><th><b>1.065</b></th><th><b>1.23</b></th><th><b>1.274</b></th><th><b>1.394</b></th><th><b>0.526</b></th><th>-0.362</th></table>\n",
       "</div>\n",
       "\n",
       "        </div>\n",
       "    </div>\n",
       "</div>\n",
       "</html>\n"
      ],
      "text/plain": [
       "<IPython.core.display.HTML object>"
      ]
     },
     "metadata": {},
     "output_type": "display_data"
    },
    {
     "name": "stderr",
     "output_type": "stream",
     "text": [
      "Attributing with dummy...: 100%|██████████| 20/20 [00:02<00:00,  2.74it/s]\n"
     ]
    },
    {
     "data": {
      "text/html": [
       "<br/><b>0th instance:</b><br/>\n",
       "<html>\n",
       "<div id=\"avkchdglkhdauioqzmye_viz_container\">\n",
       "    <div id=\"avkchdglkhdauioqzmye_content\" style=\"padding:15px;border-style:solid;margin:5px;\">\n",
       "        <div id = \"avkchdglkhdauioqzmye_saliency_plot_container\" class=\"avkchdglkhdauioqzmye_viz_container\" style=\"display:block\">\n",
       "            \n",
       "<div id=\"amcdakcoqitylfrximry_saliency_plot\" class=\"amcdakcoqitylfrximry_viz_content\">\n",
       "    <div style=\"margin:5px;font-family:sans-serif;font-weight:bold;\">\n",
       "        <span style=\"font-size: 20px;\">Target Saliency Heatmap</span>\n",
       "        <br>\n",
       "        x: Generated tokens, y: Attributed tokens\n",
       "    </div>\n",
       "    \n",
       "<table border=\"1\" cellpadding=\"5\" cellspacing=\"5\"\n",
       "    style=\"overflow-x:scroll;display:block;\">\n",
       "    <tr><th></th>\n",
       "<th>▁for</th><th>▁the</th><th>▁Game</th><th>▁Boy</th><th>▁in</th><th>▁</th><th>1</th><th>9</th></tr><tr style=\"outline: thin solid\"><th><b>logit_lens</b></th><th><b>0.695</b></th><th><b>0.822</b></th><th><b>1.045</b></th><th><b>0.887</b></th><th><b>1.211</b></th><th><b>1.104</b></th><th>0.366</th><th>-0.339</th></table>\n",
       "</div>\n",
       "\n",
       "        </div>\n",
       "    </div>\n",
       "</div>\n",
       "</html>\n"
      ],
      "text/plain": [
       "<IPython.core.display.HTML object>"
      ]
     },
     "metadata": {},
     "output_type": "display_data"
    },
    {
     "name": "stderr",
     "output_type": "stream",
     "text": [
      "Attributing with dummy...: 100%|██████████| 20/20 [00:02<00:00,  2.68it/s]\n"
     ]
    },
    {
     "data": {
      "text/html": [
       "<br/><b>0th instance:</b><br/>\n",
       "<html>\n",
       "<div id=\"jccgndrpbqvqhyydcnte_viz_container\">\n",
       "    <div id=\"jccgndrpbqvqhyydcnte_content\" style=\"padding:15px;border-style:solid;margin:5px;\">\n",
       "        <div id = \"jccgndrpbqvqhyydcnte_saliency_plot_container\" class=\"jccgndrpbqvqhyydcnte_viz_container\" style=\"display:block\">\n",
       "            \n",
       "<div id=\"uewmkvqzvqrjvbwphfwx_saliency_plot\" class=\"uewmkvqzvqrjvbwphfwx_viz_content\">\n",
       "    <div style=\"margin:5px;font-family:sans-serif;font-weight:bold;\">\n",
       "        <span style=\"font-size: 20px;\">Target Saliency Heatmap</span>\n",
       "        <br>\n",
       "        x: Generated tokens, y: Attributed tokens\n",
       "    </div>\n",
       "    \n",
       "<table border=\"1\" cellpadding=\"5\" cellspacing=\"5\"\n",
       "    style=\"overflow-x:scroll;display:block;\">\n",
       "    <tr><th></th>\n",
       "<th>▁for</th><th>▁the</th><th>▁Game</th><th>▁Boy</th><th>▁in</th><th>▁</th><th>1</th><th>9</th></tr><tr style=\"outline: thin solid\"><th><b>logit_lens</b></th><th><b>0.833</b></th><th><b>0.58</b></th><th>0.468</th><th><b>0.928</b></th><th><b>1.403</b></th><th><b>0.661</b></th><th>0.452</th><th>-0.353</th></table>\n",
       "</div>\n",
       "\n",
       "        </div>\n",
       "    </div>\n",
       "</div>\n",
       "</html>\n"
      ],
      "text/plain": [
       "<IPython.core.display.HTML object>"
      ]
     },
     "metadata": {},
     "output_type": "display_data"
    },
    {
     "name": "stderr",
     "output_type": "stream",
     "text": [
      "Attributing with dummy...: 100%|██████████| 20/20 [00:02<00:00,  2.74it/s]\n"
     ]
    },
    {
     "data": {
      "text/html": [
       "<br/><b>0th instance:</b><br/>\n",
       "<html>\n",
       "<div id=\"vifmksjxwfnskrafneqv_viz_container\">\n",
       "    <div id=\"vifmksjxwfnskrafneqv_content\" style=\"padding:15px;border-style:solid;margin:5px;\">\n",
       "        <div id = \"vifmksjxwfnskrafneqv_saliency_plot_container\" class=\"vifmksjxwfnskrafneqv_viz_container\" style=\"display:block\">\n",
       "            \n",
       "<div id=\"htekgrgyvbhbclnfyygp_saliency_plot\" class=\"htekgrgyvbhbclnfyygp_viz_content\">\n",
       "    <div style=\"margin:5px;font-family:sans-serif;font-weight:bold;\">\n",
       "        <span style=\"font-size: 20px;\">Target Saliency Heatmap</span>\n",
       "        <br>\n",
       "        x: Generated tokens, y: Attributed tokens\n",
       "    </div>\n",
       "    \n",
       "<table border=\"1\" cellpadding=\"5\" cellspacing=\"5\"\n",
       "    style=\"overflow-x:scroll;display:block;\">\n",
       "    <tr><th></th>\n",
       "<th>▁for</th><th>▁the</th><th>▁Game</th><th>▁Boy</th><th>▁in</th><th>▁</th><th>1</th><th>9</th></tr><tr style=\"outline: thin solid\"><th><b>logit_lens</b></th><th>0.483</th><th><b>0.598</b></th><th><b>0.534</b></th><th>0.453</th><th><b>1.237</b></th><th><b>0.835</b></th><th><b>0.511</b></th><th>-0.369</th></table>\n",
       "</div>\n",
       "\n",
       "        </div>\n",
       "    </div>\n",
       "</div>\n",
       "</html>\n"
      ],
      "text/plain": [
       "<IPython.core.display.HTML object>"
      ]
     },
     "metadata": {},
     "output_type": "display_data"
    },
    {
     "name": "stderr",
     "output_type": "stream",
     "text": [
      "Attributing with dummy...: 100%|██████████| 20/20 [00:02<00:00,  2.77it/s]\n"
     ]
    },
    {
     "data": {
      "text/html": [
       "<br/><b>0th instance:</b><br/>\n",
       "<html>\n",
       "<div id=\"iewahmvjwzosdfnmxort_viz_container\">\n",
       "    <div id=\"iewahmvjwzosdfnmxort_content\" style=\"padding:15px;border-style:solid;margin:5px;\">\n",
       "        <div id = \"iewahmvjwzosdfnmxort_saliency_plot_container\" class=\"iewahmvjwzosdfnmxort_viz_container\" style=\"display:block\">\n",
       "            \n",
       "<div id=\"pbdlhasmpevufisfbozd_saliency_plot\" class=\"pbdlhasmpevufisfbozd_viz_content\">\n",
       "    <div style=\"margin:5px;font-family:sans-serif;font-weight:bold;\">\n",
       "        <span style=\"font-size: 20px;\">Target Saliency Heatmap</span>\n",
       "        <br>\n",
       "        x: Generated tokens, y: Attributed tokens\n",
       "    </div>\n",
       "    \n",
       "<table border=\"1\" cellpadding=\"5\" cellspacing=\"5\"\n",
       "    style=\"overflow-x:scroll;display:block;\">\n",
       "    <tr><th></th>\n",
       "<th>▁for</th><th>▁the</th><th>▁Game</th><th>▁Boy</th><th>▁in</th><th>▁</th><th>1</th><th>9</th></tr><tr style=\"outline: thin solid\"><th><b>logit_lens</b></th><th>0.439</th><th><b>0.505</b></th><th>0.275</th><th>0.463</th><th><b>1.188</b></th><th>0.477</th><th><b>0.557</b></th><th>-0.414</th></table>\n",
       "</div>\n",
       "\n",
       "        </div>\n",
       "    </div>\n",
       "</div>\n",
       "</html>\n"
      ],
      "text/plain": [
       "<IPython.core.display.HTML object>"
      ]
     },
     "metadata": {},
     "output_type": "display_data"
    },
    {
     "name": "stderr",
     "output_type": "stream",
     "text": [
      "Attributing with dummy...: 100%|██████████| 20/20 [00:02<00:00,  2.77it/s]\n"
     ]
    },
    {
     "data": {
      "text/html": [
       "<br/><b>0th instance:</b><br/>\n",
       "<html>\n",
       "<div id=\"erqujxgnjozitcnmkvkq_viz_container\">\n",
       "    <div id=\"erqujxgnjozitcnmkvkq_content\" style=\"padding:15px;border-style:solid;margin:5px;\">\n",
       "        <div id = \"erqujxgnjozitcnmkvkq_saliency_plot_container\" class=\"erqujxgnjozitcnmkvkq_viz_container\" style=\"display:block\">\n",
       "            \n",
       "<div id=\"dayagwpidvhpodupccjh_saliency_plot\" class=\"dayagwpidvhpodupccjh_viz_content\">\n",
       "    <div style=\"margin:5px;font-family:sans-serif;font-weight:bold;\">\n",
       "        <span style=\"font-size: 20px;\">Target Saliency Heatmap</span>\n",
       "        <br>\n",
       "        x: Generated tokens, y: Attributed tokens\n",
       "    </div>\n",
       "    \n",
       "<table border=\"1\" cellpadding=\"5\" cellspacing=\"5\"\n",
       "    style=\"overflow-x:scroll;display:block;\">\n",
       "    <tr><th></th>\n",
       "<th>▁for</th><th>▁the</th><th>▁Game</th><th>▁Boy</th><th>▁in</th><th>▁</th><th>1</th><th>9</th></tr><tr style=\"outline: thin solid\"><th><b>logit_lens</b></th><th>0.142</th><th>0.474</th><th><b>0.61</b></th><th>0.365</th><th><b>0.617</b></th><th>0.414</th><th>0.437</th><th>-0.401</th></table>\n",
       "</div>\n",
       "\n",
       "        </div>\n",
       "    </div>\n",
       "</div>\n",
       "</html>\n"
      ],
      "text/plain": [
       "<IPython.core.display.HTML object>"
      ]
     },
     "metadata": {},
     "output_type": "display_data"
    },
    {
     "name": "stderr",
     "output_type": "stream",
     "text": [
      "Attributing with dummy...: 100%|██████████| 20/20 [00:02<00:00,  2.76it/s]\n"
     ]
    },
    {
     "data": {
      "text/html": [
       "<br/><b>0th instance:</b><br/>\n",
       "<html>\n",
       "<div id=\"yxkqpujamwfappwctgni_viz_container\">\n",
       "    <div id=\"yxkqpujamwfappwctgni_content\" style=\"padding:15px;border-style:solid;margin:5px;\">\n",
       "        <div id = \"yxkqpujamwfappwctgni_saliency_plot_container\" class=\"yxkqpujamwfappwctgni_viz_container\" style=\"display:block\">\n",
       "            \n",
       "<div id=\"ubaxcsebowvhgqcfgskx_saliency_plot\" class=\"ubaxcsebowvhgqcfgskx_viz_content\">\n",
       "    <div style=\"margin:5px;font-family:sans-serif;font-weight:bold;\">\n",
       "        <span style=\"font-size: 20px;\">Target Saliency Heatmap</span>\n",
       "        <br>\n",
       "        x: Generated tokens, y: Attributed tokens\n",
       "    </div>\n",
       "    \n",
       "<table border=\"1\" cellpadding=\"5\" cellspacing=\"5\"\n",
       "    style=\"overflow-x:scroll;display:block;\">\n",
       "    <tr><th></th>\n",
       "<th>▁for</th><th>▁the</th><th>▁Game</th><th>▁Boy</th><th>▁in</th><th>▁</th><th>1</th><th>9</th></tr><tr style=\"outline: thin solid\"><th><b>logit_lens</b></th><th>0.194</th><th>0.381</th><th><b>0.522</b></th><th>0.352</th><th><b>0.588</b></th><th>0.241</th><th>0.29</th><th>-0.344</th></table>\n",
       "</div>\n",
       "\n",
       "        </div>\n",
       "    </div>\n",
       "</div>\n",
       "</html>\n"
      ],
      "text/plain": [
       "<IPython.core.display.HTML object>"
      ]
     },
     "metadata": {},
     "output_type": "display_data"
    },
    {
     "name": "stderr",
     "output_type": "stream",
     "text": [
      "Attributing with dummy...: 100%|██████████| 20/20 [00:02<00:00,  2.74it/s]\n"
     ]
    },
    {
     "data": {
      "text/html": [
       "<br/><b>0th instance:</b><br/>\n",
       "<html>\n",
       "<div id=\"ftgpkqkdhfznilwrxqdm_viz_container\">\n",
       "    <div id=\"ftgpkqkdhfznilwrxqdm_content\" style=\"padding:15px;border-style:solid;margin:5px;\">\n",
       "        <div id = \"ftgpkqkdhfznilwrxqdm_saliency_plot_container\" class=\"ftgpkqkdhfznilwrxqdm_viz_container\" style=\"display:block\">\n",
       "            \n",
       "<div id=\"uevdkgklnlwctedqvcod_saliency_plot\" class=\"uevdkgklnlwctedqvcod_viz_content\">\n",
       "    <div style=\"margin:5px;font-family:sans-serif;font-weight:bold;\">\n",
       "        <span style=\"font-size: 20px;\">Target Saliency Heatmap</span>\n",
       "        <br>\n",
       "        x: Generated tokens, y: Attributed tokens\n",
       "    </div>\n",
       "    \n",
       "<table border=\"1\" cellpadding=\"5\" cellspacing=\"5\"\n",
       "    style=\"overflow-x:scroll;display:block;\">\n",
       "    <tr><th></th>\n",
       "<th>▁for</th><th>▁the</th><th>▁Game</th><th>▁Boy</th><th>▁in</th><th>▁</th><th>1</th><th>9</th></tr><tr style=\"outline: thin solid\"><th><b>logit_lens</b></th><th>0.127</th><th>0.324</th><th>0.216</th><th>0.283</th><th>0.422</th><th>0.196</th><th>0.466</th><th>-0.262</th></table>\n",
       "</div>\n",
       "\n",
       "        </div>\n",
       "    </div>\n",
       "</div>\n",
       "</html>\n"
      ],
      "text/plain": [
       "<IPython.core.display.HTML object>"
      ]
     },
     "metadata": {},
     "output_type": "display_data"
    },
    {
     "name": "stderr",
     "output_type": "stream",
     "text": [
      "Attributing with dummy...: 100%|██████████| 20/20 [00:02<00:00,  2.74it/s]\n"
     ]
    },
    {
     "data": {
      "text/html": [
       "<br/><b>0th instance:</b><br/>\n",
       "<html>\n",
       "<div id=\"rwaktflsjrwdsbeukplt_viz_container\">\n",
       "    <div id=\"rwaktflsjrwdsbeukplt_content\" style=\"padding:15px;border-style:solid;margin:5px;\">\n",
       "        <div id = \"rwaktflsjrwdsbeukplt_saliency_plot_container\" class=\"rwaktflsjrwdsbeukplt_viz_container\" style=\"display:block\">\n",
       "            \n",
       "<div id=\"ifhdwyrwnkvqbsmsmtio_saliency_plot\" class=\"ifhdwyrwnkvqbsmsmtio_viz_content\">\n",
       "    <div style=\"margin:5px;font-family:sans-serif;font-weight:bold;\">\n",
       "        <span style=\"font-size: 20px;\">Target Saliency Heatmap</span>\n",
       "        <br>\n",
       "        x: Generated tokens, y: Attributed tokens\n",
       "    </div>\n",
       "    \n",
       "<table border=\"1\" cellpadding=\"5\" cellspacing=\"5\"\n",
       "    style=\"overflow-x:scroll;display:block;\">\n",
       "    <tr><th></th>\n",
       "<th>▁for</th><th>▁the</th><th>▁Game</th><th>▁Boy</th><th>▁in</th><th>▁</th><th>1</th><th>9</th></tr><tr style=\"outline: thin solid\"><th><b>logit_lens</b></th><th>0.361</th><th>0.239</th><th>0.3</th><th>0.291</th><th>0.319</th><th>0.117</th><th>0.454</th><th>-0.183</th></table>\n",
       "</div>\n",
       "\n",
       "        </div>\n",
       "    </div>\n",
       "</div>\n",
       "</html>\n"
      ],
      "text/plain": [
       "<IPython.core.display.HTML object>"
      ]
     },
     "metadata": {},
     "output_type": "display_data"
    },
    {
     "name": "stderr",
     "output_type": "stream",
     "text": [
      "Attributing with dummy...: 100%|██████████| 20/20 [00:02<00:00,  2.75it/s]\n"
     ]
    },
    {
     "data": {
      "text/html": [
       "<br/><b>0th instance:</b><br/>\n",
       "<html>\n",
       "<div id=\"cxdeeywhfnxrddibdqqb_viz_container\">\n",
       "    <div id=\"cxdeeywhfnxrddibdqqb_content\" style=\"padding:15px;border-style:solid;margin:5px;\">\n",
       "        <div id = \"cxdeeywhfnxrddibdqqb_saliency_plot_container\" class=\"cxdeeywhfnxrddibdqqb_viz_container\" style=\"display:block\">\n",
       "            \n",
       "<div id=\"ryzteevertngpeopvskf_saliency_plot\" class=\"ryzteevertngpeopvskf_viz_content\">\n",
       "    <div style=\"margin:5px;font-family:sans-serif;font-weight:bold;\">\n",
       "        <span style=\"font-size: 20px;\">Target Saliency Heatmap</span>\n",
       "        <br>\n",
       "        x: Generated tokens, y: Attributed tokens\n",
       "    </div>\n",
       "    \n",
       "<table border=\"1\" cellpadding=\"5\" cellspacing=\"5\"\n",
       "    style=\"overflow-x:scroll;display:block;\">\n",
       "    <tr><th></th>\n",
       "<th>▁for</th><th>▁the</th><th>▁Game</th><th>▁Boy</th><th>▁in</th><th>▁</th><th>1</th><th>9</th></tr><tr style=\"outline: thin solid\"><th><b>logit_lens</b></th><th>0.218</th><th>0.104</th><th>0.292</th><th>0.262</th><th>0.051</th><th>0.111</th><th><b>0.562</b></th><th>-0.056</th></table>\n",
       "</div>\n",
       "\n",
       "        </div>\n",
       "    </div>\n",
       "</div>\n",
       "</html>\n"
      ],
      "text/plain": [
       "<IPython.core.display.HTML object>"
      ]
     },
     "metadata": {},
     "output_type": "display_data"
    },
    {
     "name": "stderr",
     "output_type": "stream",
     "text": [
      "Attributing with dummy...: 100%|██████████| 20/20 [00:02<00:00,  2.71it/s]\n"
     ]
    },
    {
     "data": {
      "text/html": [
       "<br/><b>0th instance:</b><br/>\n",
       "<html>\n",
       "<div id=\"ijdhlzqrfpduusluhwul_viz_container\">\n",
       "    <div id=\"ijdhlzqrfpduusluhwul_content\" style=\"padding:15px;border-style:solid;margin:5px;\">\n",
       "        <div id = \"ijdhlzqrfpduusluhwul_saliency_plot_container\" class=\"ijdhlzqrfpduusluhwul_viz_container\" style=\"display:block\">\n",
       "            \n",
       "<div id=\"qedjncldvdtwgyebwbfw_saliency_plot\" class=\"qedjncldvdtwgyebwbfw_viz_content\">\n",
       "    <div style=\"margin:5px;font-family:sans-serif;font-weight:bold;\">\n",
       "        <span style=\"font-size: 20px;\">Target Saliency Heatmap</span>\n",
       "        <br>\n",
       "        x: Generated tokens, y: Attributed tokens\n",
       "    </div>\n",
       "    \n",
       "<table border=\"1\" cellpadding=\"5\" cellspacing=\"5\"\n",
       "    style=\"overflow-x:scroll;display:block;\">\n",
       "    <tr><th></th>\n",
       "<th>▁for</th><th>▁the</th><th>▁Game</th><th>▁Boy</th><th>▁in</th><th>▁</th><th>1</th><th>9</th></tr><tr style=\"outline: thin solid\"><th><b>logit_lens</b></th><th>0.144</th><th>0.266</th><th>0.111</th><th>0.341</th><th>0.016</th><th>0.102</th><th>0.377</th><th>0.009</th></table>\n",
       "</div>\n",
       "\n",
       "        </div>\n",
       "    </div>\n",
       "</div>\n",
       "</html>\n"
      ],
      "text/plain": [
       "<IPython.core.display.HTML object>"
      ]
     },
     "metadata": {},
     "output_type": "display_data"
    },
    {
     "name": "stderr",
     "output_type": "stream",
     "text": [
      "Attributing with dummy...: 100%|██████████| 20/20 [00:02<00:00,  2.75it/s]\n"
     ]
    },
    {
     "data": {
      "text/html": [
       "<br/><b>0th instance:</b><br/>\n",
       "<html>\n",
       "<div id=\"yodklikccfsvnhftkrza_viz_container\">\n",
       "    <div id=\"yodklikccfsvnhftkrza_content\" style=\"padding:15px;border-style:solid;margin:5px;\">\n",
       "        <div id = \"yodklikccfsvnhftkrza_saliency_plot_container\" class=\"yodklikccfsvnhftkrza_viz_container\" style=\"display:block\">\n",
       "            \n",
       "<div id=\"nbtemdelqwiviprlmlzm_saliency_plot\" class=\"nbtemdelqwiviprlmlzm_viz_content\">\n",
       "    <div style=\"margin:5px;font-family:sans-serif;font-weight:bold;\">\n",
       "        <span style=\"font-size: 20px;\">Target Saliency Heatmap</span>\n",
       "        <br>\n",
       "        x: Generated tokens, y: Attributed tokens\n",
       "    </div>\n",
       "    \n",
       "<table border=\"1\" cellpadding=\"5\" cellspacing=\"5\"\n",
       "    style=\"overflow-x:scroll;display:block;\">\n",
       "    <tr><th></th>\n",
       "<th>▁for</th><th>▁the</th><th>▁Game</th><th>▁Boy</th><th>▁in</th><th>▁</th><th>1</th><th>9</th></tr><tr style=\"outline: thin solid\"><th><b>logit_lens</b></th><th>0.197</th><th>0.245</th><th>0.223</th><th>0.099</th><th>-0.044</th><th>0.085</th><th>0.276</th><th>0.051</th></table>\n",
       "</div>\n",
       "\n",
       "        </div>\n",
       "    </div>\n",
       "</div>\n",
       "</html>\n"
      ],
      "text/plain": [
       "<IPython.core.display.HTML object>"
      ]
     },
     "metadata": {},
     "output_type": "display_data"
    },
    {
     "name": "stderr",
     "output_type": "stream",
     "text": [
      "Attributing with dummy...: 100%|██████████| 20/20 [00:02<00:00,  2.74it/s]\n"
     ]
    },
    {
     "data": {
      "text/html": [
       "<br/><b>0th instance:</b><br/>\n",
       "<html>\n",
       "<div id=\"wlcdvsrhiddnnmrkwmaq_viz_container\">\n",
       "    <div id=\"wlcdvsrhiddnnmrkwmaq_content\" style=\"padding:15px;border-style:solid;margin:5px;\">\n",
       "        <div id = \"wlcdvsrhiddnnmrkwmaq_saliency_plot_container\" class=\"wlcdvsrhiddnnmrkwmaq_viz_container\" style=\"display:block\">\n",
       "            \n",
       "<div id=\"igfavdzlcizycyzmzhyg_saliency_plot\" class=\"igfavdzlcizycyzmzhyg_viz_content\">\n",
       "    <div style=\"margin:5px;font-family:sans-serif;font-weight:bold;\">\n",
       "        <span style=\"font-size: 20px;\">Target Saliency Heatmap</span>\n",
       "        <br>\n",
       "        x: Generated tokens, y: Attributed tokens\n",
       "    </div>\n",
       "    \n",
       "<table border=\"1\" cellpadding=\"5\" cellspacing=\"5\"\n",
       "    style=\"overflow-x:scroll;display:block;\">\n",
       "    <tr><th></th>\n",
       "<th>▁for</th><th>▁the</th><th>▁Game</th><th>▁Boy</th><th>▁in</th><th>▁</th><th>1</th><th>9</th></tr><tr style=\"outline: thin solid\"><th><b>logit_lens</b></th><th>0.1</th><th>0.253</th><th>0.089</th><th>0.158</th><th>-0.081</th><th>-0.023</th><th>0.322</th><th>0.118</th></table>\n",
       "</div>\n",
       "\n",
       "        </div>\n",
       "    </div>\n",
       "</div>\n",
       "</html>\n"
      ],
      "text/plain": [
       "<IPython.core.display.HTML object>"
      ]
     },
     "metadata": {},
     "output_type": "display_data"
    },
    {
     "name": "stderr",
     "output_type": "stream",
     "text": [
      "Attributing with dummy...: 100%|██████████| 20/20 [00:02<00:00,  2.73it/s]\n"
     ]
    },
    {
     "data": {
      "text/html": [
       "<br/><b>0th instance:</b><br/>\n",
       "<html>\n",
       "<div id=\"jecxzexpejygudokvwle_viz_container\">\n",
       "    <div id=\"jecxzexpejygudokvwle_content\" style=\"padding:15px;border-style:solid;margin:5px;\">\n",
       "        <div id = \"jecxzexpejygudokvwle_saliency_plot_container\" class=\"jecxzexpejygudokvwle_viz_container\" style=\"display:block\">\n",
       "            \n",
       "<div id=\"vivjecagroiftiwscrti_saliency_plot\" class=\"vivjecagroiftiwscrti_viz_content\">\n",
       "    <div style=\"margin:5px;font-family:sans-serif;font-weight:bold;\">\n",
       "        <span style=\"font-size: 20px;\">Target Saliency Heatmap</span>\n",
       "        <br>\n",
       "        x: Generated tokens, y: Attributed tokens\n",
       "    </div>\n",
       "    \n",
       "<table border=\"1\" cellpadding=\"5\" cellspacing=\"5\"\n",
       "    style=\"overflow-x:scroll;display:block;\">\n",
       "    <tr><th></th>\n",
       "<th>▁for</th><th>▁the</th><th>▁Game</th><th>▁Boy</th><th>▁in</th><th>▁</th><th>1</th><th>9</th></tr><tr style=\"outline: thin solid\"><th><b>logit_lens</b></th><th>0.099</th><th>0.307</th><th>0.058</th><th>0.148</th><th>-0.17</th><th>0.069</th><th>0.274</th><th>0.068</th></table>\n",
       "</div>\n",
       "\n",
       "        </div>\n",
       "    </div>\n",
       "</div>\n",
       "</html>\n"
      ],
      "text/plain": [
       "<IPython.core.display.HTML object>"
      ]
     },
     "metadata": {},
     "output_type": "display_data"
    },
    {
     "name": "stderr",
     "output_type": "stream",
     "text": [
      "Attributing with dummy...: 100%|██████████| 20/20 [00:02<00:00,  2.74it/s]\n"
     ]
    },
    {
     "data": {
      "text/html": [
       "<br/><b>0th instance:</b><br/>\n",
       "<html>\n",
       "<div id=\"elscheimaesncjhladyk_viz_container\">\n",
       "    <div id=\"elscheimaesncjhladyk_content\" style=\"padding:15px;border-style:solid;margin:5px;\">\n",
       "        <div id = \"elscheimaesncjhladyk_saliency_plot_container\" class=\"elscheimaesncjhladyk_viz_container\" style=\"display:block\">\n",
       "            \n",
       "<div id=\"jgxxqtomxjozlxbrakyp_saliency_plot\" class=\"jgxxqtomxjozlxbrakyp_viz_content\">\n",
       "    <div style=\"margin:5px;font-family:sans-serif;font-weight:bold;\">\n",
       "        <span style=\"font-size: 20px;\">Target Saliency Heatmap</span>\n",
       "        <br>\n",
       "        x: Generated tokens, y: Attributed tokens\n",
       "    </div>\n",
       "    \n",
       "<table border=\"1\" cellpadding=\"5\" cellspacing=\"5\"\n",
       "    style=\"overflow-x:scroll;display:block;\">\n",
       "    <tr><th></th>\n",
       "<th>▁for</th><th>▁the</th><th>▁Game</th><th>▁Boy</th><th>▁in</th><th>▁</th><th>1</th><th>9</th></tr><tr style=\"outline: thin solid\"><th><b>logit_lens</b></th><th>0.13</th><th>0.253</th><th>0.025</th><th>0.173</th><th>-0.041</th><th>0.008</th><th>0.129</th><th>0.063</th></table>\n",
       "</div>\n",
       "\n",
       "        </div>\n",
       "    </div>\n",
       "</div>\n",
       "</html>\n"
      ],
      "text/plain": [
       "<IPython.core.display.HTML object>"
      ]
     },
     "metadata": {},
     "output_type": "display_data"
    },
    {
     "name": "stderr",
     "output_type": "stream",
     "text": [
      "Attributing with dummy...: 100%|██████████| 20/20 [00:02<00:00,  2.72it/s]\n"
     ]
    },
    {
     "data": {
      "text/html": [
       "<br/><b>0th instance:</b><br/>\n",
       "<html>\n",
       "<div id=\"nckibmvfwlzdahcvyrza_viz_container\">\n",
       "    <div id=\"nckibmvfwlzdahcvyrza_content\" style=\"padding:15px;border-style:solid;margin:5px;\">\n",
       "        <div id = \"nckibmvfwlzdahcvyrza_saliency_plot_container\" class=\"nckibmvfwlzdahcvyrza_viz_container\" style=\"display:block\">\n",
       "            \n",
       "<div id=\"nnuvtepzzcnvjzdbywxt_saliency_plot\" class=\"nnuvtepzzcnvjzdbywxt_viz_content\">\n",
       "    <div style=\"margin:5px;font-family:sans-serif;font-weight:bold;\">\n",
       "        <span style=\"font-size: 20px;\">Target Saliency Heatmap</span>\n",
       "        <br>\n",
       "        x: Generated tokens, y: Attributed tokens\n",
       "    </div>\n",
       "    \n",
       "<table border=\"1\" cellpadding=\"5\" cellspacing=\"5\"\n",
       "    style=\"overflow-x:scroll;display:block;\">\n",
       "    <tr><th></th>\n",
       "<th>▁for</th><th>▁the</th><th>▁Game</th><th>▁Boy</th><th>▁in</th><th>▁</th><th>1</th><th>9</th></tr><tr style=\"outline: thin solid\"><th><b>logit_lens</b></th><th>0.119</th><th>0.231</th><th>0.002</th><th>0.156</th><th>-0.112</th><th>-0.022</th><th>0.091</th><th>0.061</th></table>\n",
       "</div>\n",
       "\n",
       "        </div>\n",
       "    </div>\n",
       "</div>\n",
       "</html>\n"
      ],
      "text/plain": [
       "<IPython.core.display.HTML object>"
      ]
     },
     "metadata": {},
     "output_type": "display_data"
    },
    {
     "name": "stderr",
     "output_type": "stream",
     "text": [
      "Attributing with dummy...: 100%|██████████| 20/20 [00:02<00:00,  2.72it/s]\n"
     ]
    },
    {
     "data": {
      "text/html": [
       "<br/><b>0th instance:</b><br/>\n",
       "<html>\n",
       "<div id=\"uyyatvlnsacyrudfgero_viz_container\">\n",
       "    <div id=\"uyyatvlnsacyrudfgero_content\" style=\"padding:15px;border-style:solid;margin:5px;\">\n",
       "        <div id = \"uyyatvlnsacyrudfgero_saliency_plot_container\" class=\"uyyatvlnsacyrudfgero_viz_container\" style=\"display:block\">\n",
       "            \n",
       "<div id=\"dvltlxwxutzhucykzjqu_saliency_plot\" class=\"dvltlxwxutzhucykzjqu_viz_content\">\n",
       "    <div style=\"margin:5px;font-family:sans-serif;font-weight:bold;\">\n",
       "        <span style=\"font-size: 20px;\">Target Saliency Heatmap</span>\n",
       "        <br>\n",
       "        x: Generated tokens, y: Attributed tokens\n",
       "    </div>\n",
       "    \n",
       "<table border=\"1\" cellpadding=\"5\" cellspacing=\"5\"\n",
       "    style=\"overflow-x:scroll;display:block;\">\n",
       "    <tr><th></th>\n",
       "<th>▁for</th><th>▁the</th><th>▁Game</th><th>▁Boy</th><th>▁in</th><th>▁</th><th>1</th><th>9</th></tr><tr style=\"outline: thin solid\"><th><b>logit_lens</b></th><th>0.01</th><th>0.131</th><th>0.015</th><th>0.091</th><th>0.132</th><th>-0.025</th><th>0.072</th><th>0.039</th></table>\n",
       "</div>\n",
       "\n",
       "        </div>\n",
       "    </div>\n",
       "</div>\n",
       "</html>\n"
      ],
      "text/plain": [
       "<IPython.core.display.HTML object>"
      ]
     },
     "metadata": {},
     "output_type": "display_data"
    }
   ],
   "source": [
    "layersOutputs = []\n",
    "for layer_idx in range(-1, -32, -1):\n",
    "    out = model.attribute(\"Super Mario Land is a game that developed by Nintendo\", step_scores=[\"logit_lens\"], layer_idx=layer_idx, method=\"dummy\")\n",
    "    #print(out)\n",
    "    target_list = out.sequence_attributions[0].target\n",
    "    target_string = ' '.join(token.token[1:] if token.token.startswith('▁') else token.token for token in target_list)\n",
    "    layersOutputs.append(target_string)\n",
    "    #print(target_string)\n",
    "    out.show()"
   ]
  }
 ],
 "metadata": {
  "kernelspec": {
   "display_name": "Python 3.11.8 ('myinseq')",
   "language": "python",
   "name": "python3"
  },
  "language_info": {
   "codemirror_mode": {
    "name": "ipython",
    "version": 3
   },
   "file_extension": ".py",
   "mimetype": "text/x-python",
   "name": "python",
   "nbconvert_exporter": "python",
   "pygments_lexer": "ipython3",
   "version": "3.11.8"
  },
  "vscode": {
   "interpreter": {
    "hash": "3d43b754e89cee694b4faffe50aa73d2ace878185c881b60a483790ab32b75d2"
   }
  }
 },
 "nbformat": 4,
 "nbformat_minor": 2
}
